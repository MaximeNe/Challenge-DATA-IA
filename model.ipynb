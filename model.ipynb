{
 "cells": [
  {
   "cell_type": "markdown",
   "metadata": {
    "id": "1pm_NbOhgLnW"
   },
   "source": [
    "# L'idée est d'utiliser un model déja existant pour voir ce que ça pourait donner"
   ]
  },
  {
   "cell_type": "markdown",
   "metadata": {
    "id": "JXg8qZKdgeUf"
   },
   "source": [
    "## Le BlaBla habituel"
   ]
  },
  {
   "cell_type": "code",
   "execution_count": 1,
   "metadata": {
    "colab": {
     "base_uri": "https://localhost:8080/"
    },
    "executionInfo": {
     "elapsed": 1586,
     "status": "ok",
     "timestamp": 1616176270791,
     "user": {
      "displayName": "Maxime Nemo",
      "photoUrl": "https://lh3.googleusercontent.com/a-/AOh14GhgxYvMTdoHAKHpZFuOrdNCl0_jSEyN47gRl3a4qQ=s64",
      "userId": "10933025040277972859"
     },
     "user_tz": -60
    },
    "id": "o9HgD-Y0gH7R",
    "outputId": "0de6ccd2-6bc9-42a6-ae50-ba7e0c42b9b3"
   },
   "outputs": [
    {
     "name": "stdout",
     "output_type": "stream",
     "text": [
      "Drive already mounted at /content/drive; to attempt to forcibly remount, call drive.mount(\"/content/drive\", force_remount=True).\n"
     ]
    }
   ],
   "source": [
    "from google.colab import drive\n",
    "drive.mount('/content/drive')"
   ]
  },
  {
   "cell_type": "code",
   "execution_count": 2,
   "metadata": {
    "executionInfo": {
     "elapsed": 3266,
     "status": "ok",
     "timestamp": 1616176272508,
     "user": {
      "displayName": "Maxime Nemo",
      "photoUrl": "https://lh3.googleusercontent.com/a-/AOh14GhgxYvMTdoHAKHpZFuOrdNCl0_jSEyN47gRl3a4qQ=s64",
      "userId": "10933025040277972859"
     },
     "user_tz": -60
    },
    "id": "ktX25Yl6gWvf"
   },
   "outputs": [],
   "source": [
    "# Importation des modules\n",
    "\n",
    "from keras.preprocessing.image import ImageDataGenerator\n",
    "import pandas as pd\n",
    "from sklearn.model_selection import train_test_split\n",
    "from keras.layers import Dense, Conv2D, MaxPool2D , Flatten, Dropout, BatchNormalization, MaxPooling2D\n",
    "from keras.models import Sequential\n",
    "from tensorflow import keras\n",
    "from keras import activations\n",
    "import tensorflow as tf\n",
    "import matplotlib.image as mpimg\n",
    "from skimage.measure import block_reduce\n",
    "from tensorflow.keras import layers\n",
    "from skimage.io import imread, imshow\n",
    "import cv2 as cv\n",
    "from skimage.filters import prewitt_h, prewitt_v\n",
    "import numpy as np\n",
    "import matplotlib.pyplot as plt\n",
    "import random\n",
    "from datetime import datetime\n",
    "from scipy import ndimage"
   ]
  },
  {
   "cell_type": "code",
   "execution_count": 1,
   "metadata": {
    "colab": {
     "base_uri": "https://localhost:8080/"
    },
    "executionInfo": {
     "elapsed": 4266,
     "status": "ok",
     "timestamp": 1616176273536,
     "user": {
      "displayName": "Maxime Nemo",
      "photoUrl": "https://lh3.googleusercontent.com/a-/AOh14GhgxYvMTdoHAKHpZFuOrdNCl0_jSEyN47gRl3a4qQ=s64",
      "userId": "10933025040277972859"
     },
     "user_tz": -60
    },
    "id": "GPPkeNqEgXTk",
    "outputId": "cb747e2d-c357-487b-a86d-9868a4cd2b1f"
   },
   "outputs": [
    {
     "name": "stdout",
     "output_type": "stream",
     "text": [
      "wget: missing URL\r\n",
      "Usage: wget [OPTION]... [URL]...\r\n",
      "\r\n",
      "Try `wget --help' for more options.\r\n"
     ]
    }
   ],
   "source": [
    "!wget #link to dataset"
   ]
  },
  {
   "cell_type": "code",
   "execution_count": 4,
   "metadata": {
    "colab": {
     "base_uri": "https://localhost:8080/"
    },
    "executionInfo": {
     "elapsed": 4251,
     "status": "ok",
     "timestamp": 1616176273540,
     "user": {
      "displayName": "Maxime Nemo",
      "photoUrl": "https://lh3.googleusercontent.com/a-/AOh14GhgxYvMTdoHAKHpZFuOrdNCl0_jSEyN47gRl3a4qQ=s64",
      "userId": "10933025040277972859"
     },
     "user_tz": -60
    },
    "id": "aDoAIeusga4T",
    "outputId": "16ef7ca7-d019-43c6-cfd7-7fb3e5e8b1ed"
   },
   "outputs": [
    {
     "name": "stdout",
     "output_type": "stream",
     "text": [
      "mkdir: cannot create directory ‘data’: File exists\n"
     ]
    }
   ],
   "source": [
    "# Pour se débarasser des demandes de unzip inutiles\n",
    "! mkdir data\n",
    "try:\n",
    "  open(\"./data/rien.txt\", 'r')\n",
    "except:\n",
    "  # Faire les unzip ici\n",
    "  ! unzip -q public_data.zip -d ./data\n",
    "  \n",
    "  f = open(\"./data/rien.txt\" ,'w')\n",
    "  f.write(\"rien\")\n",
    "  f.close()"
   ]
  },
  {
   "cell_type": "code",
   "execution_count": 5,
   "metadata": {
    "executionInfo": {
     "elapsed": 4241,
     "status": "ok",
     "timestamp": 1616176273543,
     "user": {
      "displayName": "Maxime Nemo",
      "photoUrl": "https://lh3.googleusercontent.com/a-/AOh14GhgxYvMTdoHAKHpZFuOrdNCl0_jSEyN47gRl3a4qQ=s64",
      "userId": "10933025040277972859"
     },
     "user_tz": -60
    },
    "id": "XrKV990hgdL0"
   },
   "outputs": [],
   "source": [
    "date = str(datetime.now())"
   ]
  },
  {
   "cell_type": "markdown",
   "metadata": {
    "id": "UHr3lwW_ghVx"
   },
   "source": [
    "## Le vif du sujet"
   ]
  },
  {
   "cell_type": "markdown",
   "metadata": {
    "id": "TJfvxE37ikQq"
   },
   "source": [
    "### Traitement des données"
   ]
  },
  {
   "cell_type": "code",
   "execution_count": 6,
   "metadata": {
    "executionInfo": {
     "elapsed": 4234,
     "status": "ok",
     "timestamp": 1616176273545,
     "user": {
      "displayName": "Maxime Nemo",
      "photoUrl": "https://lh3.googleusercontent.com/a-/AOh14GhgxYvMTdoHAKHpZFuOrdNCl0_jSEyN47gRl3a4qQ=s64",
      "userId": "10933025040277972859"
     },
     "user_tz": -60
    },
    "id": "G6eY0vewgkv3"
   },
   "outputs": [],
   "source": [
    "def pre_traitement(image):\n",
    "  \"\"\"\n",
    "  image est un tableau numpy directement extrait de train_df\n",
    "  (sans modifications)\n",
    "  \"\"\"\n",
    "  def rescale(channel):\n",
    "    \"\"\"\n",
    "    Renvoie le tableau normalisé (valeurs entre 0 et 1)\n",
    "    \"\"\"\n",
    "    a = np.max(channel)\n",
    "    b = np.min(channel)\n",
    "    return (channel - b )/(a-b)\n",
    "\n",
    "  # plt.subplot(141)\n",
    "  # plt.imshow(image)\n",
    "\n",
    "\n",
    "  # Augmentation du contraste:  (ne modifie pas le précédent)\n",
    "  alpha = 0.9 # Contrast control (1.0-3.0)\n",
    "  beta = 0 # Brightness control (0-100)\n",
    "  contraste = cv.convertScaleAbs(image, alpha=alpha, beta=beta)\n",
    "\n",
    "\n",
    "  # Egalisation d'histogrammes:  (ne modifie pas le précédent)\n",
    "  img_to_yuv_1 = cv.cvtColor (contraste, cv.COLOR_BGR2YUV)\n",
    "  img_to_yuv_1 [:,:, 0] = cv.equalizeHist (img_to_yuv_1 [:,:,0])\n",
    "  hist = cv.cvtColor (img_to_yuv_1, cv.COLOR_YUV2BGR) # sans agumentation du contraste\n",
    "\n",
    "\n",
    "  return np.stack([rescale(channel) for channel in [contraste[:,:,0], contraste[:,:,1], contraste[:,:,2]] ], axis=-1)"
   ]
  },
  {
   "cell_type": "code",
   "execution_count": 7,
   "metadata": {
    "executionInfo": {
     "elapsed": 4228,
     "status": "ok",
     "timestamp": 1616176273547,
     "user": {
      "displayName": "Maxime Nemo",
      "photoUrl": "https://lh3.googleusercontent.com/a-/AOh14GhgxYvMTdoHAKHpZFuOrdNCl0_jSEyN47gRl3a4qQ=s64",
      "userId": "10933025040277972859"
     },
     "user_tz": -60
    },
    "id": "DbmeG2Ruliie"
   },
   "outputs": [],
   "source": [
    "DATA_DIR = './data/'\n",
    "train_df = pd.read_csv(f'{DATA_DIR}train.csv')"
   ]
  },
  {
   "cell_type": "markdown",
   "metadata": {
    "id": "SwWjeVH-odJO"
   },
   "source": [
    "Visualisation"
   ]
  },
  {
   "cell_type": "code",
   "execution_count": 8,
   "metadata": {
    "colab": {
     "base_uri": "https://localhost:8080/",
     "height": 407
    },
    "executionInfo": {
     "elapsed": 4223,
     "status": "ok",
     "timestamp": 1616176273550,
     "user": {
      "displayName": "Maxime Nemo",
      "photoUrl": "https://lh3.googleusercontent.com/a-/AOh14GhgxYvMTdoHAKHpZFuOrdNCl0_jSEyN47gRl3a4qQ=s64",
      "userId": "10933025040277972859"
     },
     "user_tz": -60
    },
    "id": "A-ARNUUEs6o6",
    "outputId": "75aab756-fab9-4468-d772-07f479e81c26"
   },
   "outputs": [
    {
     "data": {
      "text/html": [
       "<div>\n",
       "<style scoped>\n",
       "    .dataframe tbody tr th:only-of-type {\n",
       "        vertical-align: middle;\n",
       "    }\n",
       "\n",
       "    .dataframe tbody tr th {\n",
       "        vertical-align: top;\n",
       "    }\n",
       "\n",
       "    .dataframe thead th {\n",
       "        text-align: right;\n",
       "    }\n",
       "</style>\n",
       "<table border=\"1\" class=\"dataframe\">\n",
       "  <thead>\n",
       "    <tr style=\"text-align: right;\">\n",
       "      <th></th>\n",
       "      <th>index</th>\n",
       "      <th>char</th>\n",
       "      <th>image</th>\n",
       "      <th>mask</th>\n",
       "    </tr>\n",
       "  </thead>\n",
       "  <tbody>\n",
       "    <tr>\n",
       "      <th>0</th>\n",
       "      <td>0</td>\n",
       "      <td>c</td>\n",
       "      <td>train/00000.image.jpg</td>\n",
       "      <td>train/00000.mask.jpg</td>\n",
       "    </tr>\n",
       "    <tr>\n",
       "      <th>1</th>\n",
       "      <td>1</td>\n",
       "      <td>t</td>\n",
       "      <td>train/00001.image.jpg</td>\n",
       "      <td>train/00001.mask.jpg</td>\n",
       "    </tr>\n",
       "    <tr>\n",
       "      <th>2</th>\n",
       "      <td>2</td>\n",
       "      <td>w</td>\n",
       "      <td>train/00002.image.jpg</td>\n",
       "      <td>train/00002.mask.jpg</td>\n",
       "    </tr>\n",
       "    <tr>\n",
       "      <th>3</th>\n",
       "      <td>3</td>\n",
       "      <td>f</td>\n",
       "      <td>train/00003.image.jpg</td>\n",
       "      <td>train/00003.mask.jpg</td>\n",
       "    </tr>\n",
       "    <tr>\n",
       "      <th>4</th>\n",
       "      <td>4</td>\n",
       "      <td>2</td>\n",
       "      <td>train/00004.image.jpg</td>\n",
       "      <td>train/00004.mask.jpg</td>\n",
       "    </tr>\n",
       "    <tr>\n",
       "      <th>...</th>\n",
       "      <td>...</td>\n",
       "      <td>...</td>\n",
       "      <td>...</td>\n",
       "      <td>...</td>\n",
       "    </tr>\n",
       "    <tr>\n",
       "      <th>6995</th>\n",
       "      <td>6995</td>\n",
       "      <td>6</td>\n",
       "      <td>train/06995.image.jpg</td>\n",
       "      <td>train/06995.mask.jpg</td>\n",
       "    </tr>\n",
       "    <tr>\n",
       "      <th>6996</th>\n",
       "      <td>6996</td>\n",
       "      <td>d</td>\n",
       "      <td>train/06996.image.jpg</td>\n",
       "      <td>train/06996.mask.jpg</td>\n",
       "    </tr>\n",
       "    <tr>\n",
       "      <th>6997</th>\n",
       "      <td>6997</td>\n",
       "      <td>z</td>\n",
       "      <td>train/06997.image.jpg</td>\n",
       "      <td>train/06997.mask.jpg</td>\n",
       "    </tr>\n",
       "    <tr>\n",
       "      <th>6998</th>\n",
       "      <td>6998</td>\n",
       "      <td>i</td>\n",
       "      <td>train/06998.image.jpg</td>\n",
       "      <td>train/06998.mask.jpg</td>\n",
       "    </tr>\n",
       "    <tr>\n",
       "      <th>6999</th>\n",
       "      <td>6999</td>\n",
       "      <td>h</td>\n",
       "      <td>train/06999.image.jpg</td>\n",
       "      <td>train/06999.mask.jpg</td>\n",
       "    </tr>\n",
       "  </tbody>\n",
       "</table>\n",
       "<p>7000 rows × 4 columns</p>\n",
       "</div>"
      ],
      "text/plain": [
       "      index char                  image                  mask\n",
       "0         0    c  train/00000.image.jpg  train/00000.mask.jpg\n",
       "1         1    t  train/00001.image.jpg  train/00001.mask.jpg\n",
       "2         2    w  train/00002.image.jpg  train/00002.mask.jpg\n",
       "3         3    f  train/00003.image.jpg  train/00003.mask.jpg\n",
       "4         4    2  train/00004.image.jpg  train/00004.mask.jpg\n",
       "...     ...  ...                    ...                   ...\n",
       "6995   6995    6  train/06995.image.jpg  train/06995.mask.jpg\n",
       "6996   6996    d  train/06996.image.jpg  train/06996.mask.jpg\n",
       "6997   6997    z  train/06997.image.jpg  train/06997.mask.jpg\n",
       "6998   6998    i  train/06998.image.jpg  train/06998.mask.jpg\n",
       "6999   6999    h  train/06999.image.jpg  train/06999.mask.jpg\n",
       "\n",
       "[7000 rows x 4 columns]"
      ]
     },
     "execution_count": 8,
     "metadata": {
      "tags": []
     },
     "output_type": "execute_result"
    }
   ],
   "source": [
    "train_df"
   ]
  },
  {
   "cell_type": "markdown",
   "metadata": {
    "id": "bVncsldpipBy"
   },
   "source": [
    "### Le model et compagnie"
   ]
  },
  {
   "cell_type": "code",
   "execution_count": 9,
   "metadata": {
    "executionInfo": {
     "elapsed": 4214,
     "status": "ok",
     "timestamp": 1616176273552,
     "user": {
      "displayName": "Maxime Nemo",
      "photoUrl": "https://lh3.googleusercontent.com/a-/AOh14GhgxYvMTdoHAKHpZFuOrdNCl0_jSEyN47gRl3a4qQ=s64",
      "userId": "10933025040277972859"
     },
     "user_tz": -60
    },
    "id": "zYI_6Nxk68NQ"
   },
   "outputs": [],
   "source": [
    "def f(x):\n",
    "  return x/255"
   ]
  },
  {
   "cell_type": "code",
   "execution_count": 10,
   "metadata": {
    "executionInfo": {
     "elapsed": 4208,
     "status": "ok",
     "timestamp": 1616176273553,
     "user": {
      "displayName": "Maxime Nemo",
      "photoUrl": "https://lh3.googleusercontent.com/a-/AOh14GhgxYvMTdoHAKHpZFuOrdNCl0_jSEyN47gRl3a4qQ=s64",
      "userId": "10933025040277972859"
     },
     "user_tz": -60
    },
    "id": "KVV1t1sHit-I"
   },
   "outputs": [],
   "source": [
    "datagen = ImageDataGenerator(\n",
    "    width_shift_range=0.15,\n",
    "    height_shift_range=0.15,\n",
    "    rotation_range=15,\n",
    "    channel_shift_range=0.2,\n",
    "    validation_split=0.2,\n",
    "    preprocessing_function=pre_traitement\n",
    ")"
   ]
  },
  {
   "cell_type": "code",
   "execution_count": 11,
   "metadata": {
    "colab": {
     "base_uri": "https://localhost:8080/"
    },
    "executionInfo": {
     "elapsed": 4204,
     "status": "ok",
     "timestamp": 1616176273555,
     "user": {
      "displayName": "Maxime Nemo",
      "photoUrl": "https://lh3.googleusercontent.com/a-/AOh14GhgxYvMTdoHAKHpZFuOrdNCl0_jSEyN47gRl3a4qQ=s64",
      "userId": "10933025040277972859"
     },
     "user_tz": -60
    },
    "id": "tyizpn10wHJK",
    "outputId": "06b3cd82-840e-4df4-dec6-6bf72cfc99f4"
   },
   "outputs": [
    {
     "name": "stdout",
     "output_type": "stream",
     "text": [
      "Found 5600 validated image filenames belonging to 36 classes.\n",
      "Found 1400 validated image filenames belonging to 36 classes.\n"
     ]
    }
   ],
   "source": [
    "train_generator = datagen.flow_from_dataframe(\n",
    "    train_df,\n",
    "    directory=DATA_DIR,\n",
    "    x_col=\"image\",\n",
    "    y_col=\"char\",\n",
    "    weight_col=None,\n",
    "    target_size=(112, 112),\n",
    "    color_mode=\"rgb\",\n",
    "    classes=None,\n",
    "    class_mode=\"categorical\",\n",
    "    batch_size=32,\n",
    "    shuffle=True,\n",
    "    seed=None,\n",
    "    save_to_dir=None,\n",
    "    save_prefix=\"\",\n",
    "    save_format=\"png\",\n",
    "    interpolation=\"nearest\",\n",
    "    validate_filenames=True,\n",
    "    subset=\"training\"\n",
    ")\n",
    "\n",
    "validation_generator = datagen.flow_from_dataframe(\n",
    "    train_df,\n",
    "    directory=DATA_DIR,\n",
    "    x_col=\"image\",\n",
    "    y_col=\"char\",\n",
    "    weight_col=None,\n",
    "    target_size=(112, 112),\n",
    "    color_mode=\"rgb\",\n",
    "    classes=None,\n",
    "    class_mode=\"categorical\",\n",
    "    batch_size=32,\n",
    "    shuffle=True,\n",
    "    seed=None,\n",
    "    save_to_dir=None,\n",
    "    save_prefix=\"\",\n",
    "    save_format=\"png\",\n",
    "    interpolation=\"nearest\",\n",
    "    validate_filenames=True,\n",
    "    subset=\"validation\"\n",
    ")"
   ]
  },
  {
   "cell_type": "code",
   "execution_count": 12,
   "metadata": {
    "executionInfo": {
     "elapsed": 4198,
     "status": "ok",
     "timestamp": 1616176273557,
     "user": {
      "displayName": "Maxime Nemo",
      "photoUrl": "https://lh3.googleusercontent.com/a-/AOh14GhgxYvMTdoHAKHpZFuOrdNCl0_jSEyN47gRl3a4qQ=s64",
      "userId": "10933025040277972859"
     },
     "user_tz": -60
    },
    "id": "RPRdBBPYiyDp"
   },
   "outputs": [],
   "source": [
    "input_shape = (112,112,3)"
   ]
  },
  {
   "cell_type": "code",
   "execution_count": 13,
   "metadata": {
    "executionInfo": {
     "elapsed": 4194,
     "status": "ok",
     "timestamp": 1616176273559,
     "user": {
      "displayName": "Maxime Nemo",
      "photoUrl": "https://lh3.googleusercontent.com/a-/AOh14GhgxYvMTdoHAKHpZFuOrdNCl0_jSEyN47gRl3a4qQ=s64",
      "userId": "10933025040277972859"
     },
     "user_tz": -60
    },
    "id": "m--o8YP-i09S"
   },
   "outputs": [],
   "source": [
    "from keras.callbacks import ReduceLROnPlateau\n",
    "reduce_lr = ReduceLROnPlateau(\n",
    "            monitor = \"val_loss\",\n",
    "            factor=0.3,\n",
    "            patience=4,\n",
    "            min_lr=1e-7,\n",
    "            verbose = 1)"
   ]
  },
  {
   "cell_type": "code",
   "execution_count": 14,
   "metadata": {
    "executionInfo": {
     "elapsed": 4189,
     "status": "ok",
     "timestamp": 1616176273561,
     "user": {
      "displayName": "Maxime Nemo",
      "photoUrl": "https://lh3.googleusercontent.com/a-/AOh14GhgxYvMTdoHAKHpZFuOrdNCl0_jSEyN47gRl3a4qQ=s64",
      "userId": "10933025040277972859"
     },
     "user_tz": -60
    },
    "id": "l2MNq6jSi7fX"
   },
   "outputs": [],
   "source": [
    "model_checkpoint_callback = tf.keras.callbacks.ModelCheckpoint(\n",
    "    filepath=\"model.hdf5\",\n",
    "    save_weights_only=True,\n",
    "    monitor='val_loss',\n",
    "    save_best_only=True,\n",
    "    verbose=1)"
   ]
  },
  {
   "cell_type": "code",
   "execution_count": 15,
   "metadata": {
    "colab": {
     "base_uri": "https://localhost:8080/"
    },
    "executionInfo": {
     "elapsed": 5507,
     "status": "ok",
     "timestamp": 1616176274884,
     "user": {
      "displayName": "Maxime Nemo",
      "photoUrl": "https://lh3.googleusercontent.com/a-/AOh14GhgxYvMTdoHAKHpZFuOrdNCl0_jSEyN47gRl3a4qQ=s64",
      "userId": "10933025040277972859"
     },
     "user_tz": -60
    },
    "id": "OTSQT14yjtGx",
    "outputId": "28f4ead4-2cd9-453a-8965-f3278282c83f"
   },
   "outputs": [
    {
     "name": "stdout",
     "output_type": "stream",
     "text": [
      "WARNING:tensorflow:`input_shape` is undefined or non-square, or `rows` is not in [128, 160, 192, 224]. Weights for input shape (224, 224) will be loaded as the default.\n",
      "Model: \"mobilenet_1.00_224\"\n",
      "_________________________________________________________________\n",
      "Layer (type)                 Output Shape              Param #   \n",
      "=================================================================\n",
      "input_1 (InputLayer)         [(None, 112, 112, 3)]     0         \n",
      "_________________________________________________________________\n",
      "conv1 (Conv2D)               (None, 56, 56, 32)        864       \n",
      "_________________________________________________________________\n",
      "conv1_bn (BatchNormalization (None, 56, 56, 32)        128       \n",
      "_________________________________________________________________\n",
      "conv1_relu (ReLU)            (None, 56, 56, 32)        0         \n",
      "_________________________________________________________________\n",
      "conv_dw_1 (DepthwiseConv2D)  (None, 56, 56, 32)        288       \n",
      "_________________________________________________________________\n",
      "conv_dw_1_bn (BatchNormaliza (None, 56, 56, 32)        128       \n",
      "_________________________________________________________________\n",
      "conv_dw_1_relu (ReLU)        (None, 56, 56, 32)        0         \n",
      "_________________________________________________________________\n",
      "conv_pw_1 (Conv2D)           (None, 56, 56, 64)        2048      \n",
      "_________________________________________________________________\n",
      "conv_pw_1_bn (BatchNormaliza (None, 56, 56, 64)        256       \n",
      "_________________________________________________________________\n",
      "conv_pw_1_relu (ReLU)        (None, 56, 56, 64)        0         \n",
      "_________________________________________________________________\n",
      "conv_pad_2 (ZeroPadding2D)   (None, 57, 57, 64)        0         \n",
      "_________________________________________________________________\n",
      "conv_dw_2 (DepthwiseConv2D)  (None, 28, 28, 64)        576       \n",
      "_________________________________________________________________\n",
      "conv_dw_2_bn (BatchNormaliza (None, 28, 28, 64)        256       \n",
      "_________________________________________________________________\n",
      "conv_dw_2_relu (ReLU)        (None, 28, 28, 64)        0         \n",
      "_________________________________________________________________\n",
      "conv_pw_2 (Conv2D)           (None, 28, 28, 128)       8192      \n",
      "_________________________________________________________________\n",
      "conv_pw_2_bn (BatchNormaliza (None, 28, 28, 128)       512       \n",
      "_________________________________________________________________\n",
      "conv_pw_2_relu (ReLU)        (None, 28, 28, 128)       0         \n",
      "_________________________________________________________________\n",
      "conv_dw_3 (DepthwiseConv2D)  (None, 28, 28, 128)       1152      \n",
      "_________________________________________________________________\n",
      "conv_dw_3_bn (BatchNormaliza (None, 28, 28, 128)       512       \n",
      "_________________________________________________________________\n",
      "conv_dw_3_relu (ReLU)        (None, 28, 28, 128)       0         \n",
      "_________________________________________________________________\n",
      "conv_pw_3 (Conv2D)           (None, 28, 28, 128)       16384     \n",
      "_________________________________________________________________\n",
      "conv_pw_3_bn (BatchNormaliza (None, 28, 28, 128)       512       \n",
      "_________________________________________________________________\n",
      "conv_pw_3_relu (ReLU)        (None, 28, 28, 128)       0         \n",
      "_________________________________________________________________\n",
      "conv_pad_4 (ZeroPadding2D)   (None, 29, 29, 128)       0         \n",
      "_________________________________________________________________\n",
      "conv_dw_4 (DepthwiseConv2D)  (None, 14, 14, 128)       1152      \n",
      "_________________________________________________________________\n",
      "conv_dw_4_bn (BatchNormaliza (None, 14, 14, 128)       512       \n",
      "_________________________________________________________________\n",
      "conv_dw_4_relu (ReLU)        (None, 14, 14, 128)       0         \n",
      "_________________________________________________________________\n",
      "conv_pw_4 (Conv2D)           (None, 14, 14, 256)       32768     \n",
      "_________________________________________________________________\n",
      "conv_pw_4_bn (BatchNormaliza (None, 14, 14, 256)       1024      \n",
      "_________________________________________________________________\n",
      "conv_pw_4_relu (ReLU)        (None, 14, 14, 256)       0         \n",
      "_________________________________________________________________\n",
      "conv_dw_5 (DepthwiseConv2D)  (None, 14, 14, 256)       2304      \n",
      "_________________________________________________________________\n",
      "conv_dw_5_bn (BatchNormaliza (None, 14, 14, 256)       1024      \n",
      "_________________________________________________________________\n",
      "conv_dw_5_relu (ReLU)        (None, 14, 14, 256)       0         \n",
      "_________________________________________________________________\n",
      "conv_pw_5 (Conv2D)           (None, 14, 14, 256)       65536     \n",
      "_________________________________________________________________\n",
      "conv_pw_5_bn (BatchNormaliza (None, 14, 14, 256)       1024      \n",
      "_________________________________________________________________\n",
      "conv_pw_5_relu (ReLU)        (None, 14, 14, 256)       0         \n",
      "_________________________________________________________________\n",
      "conv_pad_6 (ZeroPadding2D)   (None, 15, 15, 256)       0         \n",
      "_________________________________________________________________\n",
      "conv_dw_6 (DepthwiseConv2D)  (None, 7, 7, 256)         2304      \n",
      "_________________________________________________________________\n",
      "conv_dw_6_bn (BatchNormaliza (None, 7, 7, 256)         1024      \n",
      "_________________________________________________________________\n",
      "conv_dw_6_relu (ReLU)        (None, 7, 7, 256)         0         \n",
      "_________________________________________________________________\n",
      "conv_pw_6 (Conv2D)           (None, 7, 7, 512)         131072    \n",
      "_________________________________________________________________\n",
      "conv_pw_6_bn (BatchNormaliza (None, 7, 7, 512)         2048      \n",
      "_________________________________________________________________\n",
      "conv_pw_6_relu (ReLU)        (None, 7, 7, 512)         0         \n",
      "_________________________________________________________________\n",
      "conv_dw_7 (DepthwiseConv2D)  (None, 7, 7, 512)         4608      \n",
      "_________________________________________________________________\n",
      "conv_dw_7_bn (BatchNormaliza (None, 7, 7, 512)         2048      \n",
      "_________________________________________________________________\n",
      "conv_dw_7_relu (ReLU)        (None, 7, 7, 512)         0         \n",
      "_________________________________________________________________\n",
      "conv_pw_7 (Conv2D)           (None, 7, 7, 512)         262144    \n",
      "_________________________________________________________________\n",
      "conv_pw_7_bn (BatchNormaliza (None, 7, 7, 512)         2048      \n",
      "_________________________________________________________________\n",
      "conv_pw_7_relu (ReLU)        (None, 7, 7, 512)         0         \n",
      "_________________________________________________________________\n",
      "conv_dw_8 (DepthwiseConv2D)  (None, 7, 7, 512)         4608      \n",
      "_________________________________________________________________\n",
      "conv_dw_8_bn (BatchNormaliza (None, 7, 7, 512)         2048      \n",
      "_________________________________________________________________\n",
      "conv_dw_8_relu (ReLU)        (None, 7, 7, 512)         0         \n",
      "_________________________________________________________________\n",
      "conv_pw_8 (Conv2D)           (None, 7, 7, 512)         262144    \n",
      "_________________________________________________________________\n",
      "conv_pw_8_bn (BatchNormaliza (None, 7, 7, 512)         2048      \n",
      "_________________________________________________________________\n",
      "conv_pw_8_relu (ReLU)        (None, 7, 7, 512)         0         \n",
      "_________________________________________________________________\n",
      "conv_dw_9 (DepthwiseConv2D)  (None, 7, 7, 512)         4608      \n",
      "_________________________________________________________________\n",
      "conv_dw_9_bn (BatchNormaliza (None, 7, 7, 512)         2048      \n",
      "_________________________________________________________________\n",
      "conv_dw_9_relu (ReLU)        (None, 7, 7, 512)         0         \n",
      "_________________________________________________________________\n",
      "conv_pw_9 (Conv2D)           (None, 7, 7, 512)         262144    \n",
      "_________________________________________________________________\n",
      "conv_pw_9_bn (BatchNormaliza (None, 7, 7, 512)         2048      \n",
      "_________________________________________________________________\n",
      "conv_pw_9_relu (ReLU)        (None, 7, 7, 512)         0         \n",
      "_________________________________________________________________\n",
      "conv_dw_10 (DepthwiseConv2D) (None, 7, 7, 512)         4608      \n",
      "_________________________________________________________________\n",
      "conv_dw_10_bn (BatchNormaliz (None, 7, 7, 512)         2048      \n",
      "_________________________________________________________________\n",
      "conv_dw_10_relu (ReLU)       (None, 7, 7, 512)         0         \n",
      "_________________________________________________________________\n",
      "conv_pw_10 (Conv2D)          (None, 7, 7, 512)         262144    \n",
      "_________________________________________________________________\n",
      "conv_pw_10_bn (BatchNormaliz (None, 7, 7, 512)         2048      \n",
      "_________________________________________________________________\n",
      "conv_pw_10_relu (ReLU)       (None, 7, 7, 512)         0         \n",
      "_________________________________________________________________\n",
      "conv_dw_11 (DepthwiseConv2D) (None, 7, 7, 512)         4608      \n",
      "_________________________________________________________________\n",
      "conv_dw_11_bn (BatchNormaliz (None, 7, 7, 512)         2048      \n",
      "_________________________________________________________________\n",
      "conv_dw_11_relu (ReLU)       (None, 7, 7, 512)         0         \n",
      "_________________________________________________________________\n",
      "conv_pw_11 (Conv2D)          (None, 7, 7, 512)         262144    \n",
      "_________________________________________________________________\n",
      "conv_pw_11_bn (BatchNormaliz (None, 7, 7, 512)         2048      \n",
      "_________________________________________________________________\n",
      "conv_pw_11_relu (ReLU)       (None, 7, 7, 512)         0         \n",
      "_________________________________________________________________\n",
      "conv_pad_12 (ZeroPadding2D)  (None, 8, 8, 512)         0         \n",
      "_________________________________________________________________\n",
      "conv_dw_12 (DepthwiseConv2D) (None, 3, 3, 512)         4608      \n",
      "_________________________________________________________________\n",
      "conv_dw_12_bn (BatchNormaliz (None, 3, 3, 512)         2048      \n",
      "_________________________________________________________________\n",
      "conv_dw_12_relu (ReLU)       (None, 3, 3, 512)         0         \n",
      "_________________________________________________________________\n",
      "conv_pw_12 (Conv2D)          (None, 3, 3, 1024)        524288    \n",
      "_________________________________________________________________\n",
      "conv_pw_12_bn (BatchNormaliz (None, 3, 3, 1024)        4096      \n",
      "_________________________________________________________________\n",
      "conv_pw_12_relu (ReLU)       (None, 3, 3, 1024)        0         \n",
      "_________________________________________________________________\n",
      "conv_dw_13 (DepthwiseConv2D) (None, 3, 3, 1024)        9216      \n",
      "_________________________________________________________________\n",
      "conv_dw_13_bn (BatchNormaliz (None, 3, 3, 1024)        4096      \n",
      "_________________________________________________________________\n",
      "conv_dw_13_relu (ReLU)       (None, 3, 3, 1024)        0         \n",
      "_________________________________________________________________\n",
      "conv_pw_13 (Conv2D)          (None, 3, 3, 1024)        1048576   \n",
      "_________________________________________________________________\n",
      "conv_pw_13_bn (BatchNormaliz (None, 3, 3, 1024)        4096      \n",
      "_________________________________________________________________\n",
      "conv_pw_13_relu (ReLU)       (None, 3, 3, 1024)        0         \n",
      "=================================================================\n",
      "Total params: 3,228,864\n",
      "Trainable params: 3,206,976\n",
      "Non-trainable params: 21,888\n",
      "_________________________________________________________________\n"
     ]
    }
   ],
   "source": [
    "from keras.applications import MobileNet\n",
    "from keras.models import Model\n",
    "import keras\n",
    "\n",
    "resnet = MobileNet(include_top=False, weights='imagenet', input_shape=input_shape, classes=36, dropout=0.4)\n",
    "# output = restnet.layers[-1].output\n",
    "# output = keras.layers.Flatten()(output)\n",
    "\n",
    "# restnet = Model(restnet.input, outputs=output)\n",
    "\n",
    "# for layer in restnet.layers:\n",
    "#     layer.trainable = False\n",
    "\n",
    "resnet.summary()"
   ]
  },
  {
   "cell_type": "code",
   "execution_count": 16,
   "metadata": {
    "colab": {
     "base_uri": "https://localhost:8080/"
    },
    "executionInfo": {
     "elapsed": 8382,
     "status": "ok",
     "timestamp": 1616176277766,
     "user": {
      "displayName": "Maxime Nemo",
      "photoUrl": "https://lh3.googleusercontent.com/a-/AOh14GhgxYvMTdoHAKHpZFuOrdNCl0_jSEyN47gRl3a4qQ=s64",
      "userId": "10933025040277972859"
     },
     "user_tz": -60
    },
    "id": "LUsB5sH54cYD",
    "outputId": "38db7f59-aa08-47ac-f356-50426b2219c1"
   },
   "outputs": [
    {
     "name": "stdout",
     "output_type": "stream",
     "text": [
      "Requirement already satisfied: tensorflow_addons in /usr/local/lib/python3.7/dist-packages (0.12.1)\n",
      "Requirement already satisfied: typeguard>=2.7 in /usr/local/lib/python3.7/dist-packages (from tensorflow_addons) (2.7.1)\n"
     ]
    }
   ],
   "source": [
    "!pip install tensorflow_addons"
   ]
  },
  {
   "cell_type": "code",
   "execution_count": 17,
   "metadata": {
    "executionInfo": {
     "elapsed": 8376,
     "status": "ok",
     "timestamp": 1616176277768,
     "user": {
      "displayName": "Maxime Nemo",
      "photoUrl": "https://lh3.googleusercontent.com/a-/AOh14GhgxYvMTdoHAKHpZFuOrdNCl0_jSEyN47gRl3a4qQ=s64",
      "userId": "10933025040277972859"
     },
     "user_tz": -60
    },
    "id": "ShUJUMsC3b_Y"
   },
   "outputs": [],
   "source": [
    "import tensorflow_addons.optimizers.rectified_adam"
   ]
  },
  {
   "cell_type": "code",
   "execution_count": 18,
   "metadata": {
    "colab": {
     "base_uri": "https://localhost:8080/"
    },
    "executionInfo": {
     "elapsed": 8375,
     "status": "ok",
     "timestamp": 1616176277773,
     "user": {
      "displayName": "Maxime Nemo",
      "photoUrl": "https://lh3.googleusercontent.com/a-/AOh14GhgxYvMTdoHAKHpZFuOrdNCl0_jSEyN47gRl3a4qQ=s64",
      "userId": "10933025040277972859"
     },
     "user_tz": -60
    },
    "id": "NFn9g6w841g5",
    "outputId": "59b384ea-9c87-446b-b93b-ee6cb91dc1f0"
   },
   "outputs": [
    {
     "data": {
      "text/plain": [
       "tensorflow_addons.optimizers.rectified_adam.RectifiedAdam"
      ]
     },
     "execution_count": 18,
     "metadata": {
      "tags": []
     },
     "output_type": "execute_result"
    }
   ],
   "source": [
    "tensorflow_addons.optimizers.rectified_adam.RectifiedAdam"
   ]
  },
  {
   "cell_type": "code",
   "execution_count": 19,
   "metadata": {
    "colab": {
     "base_uri": "https://localhost:8080/"
    },
    "executionInfo": {
     "elapsed": 9162,
     "status": "ok",
     "timestamp": 1616176278568,
     "user": {
      "displayName": "Maxime Nemo",
      "photoUrl": "https://lh3.googleusercontent.com/a-/AOh14GhgxYvMTdoHAKHpZFuOrdNCl0_jSEyN47gRl3a4qQ=s64",
      "userId": "10933025040277972859"
     },
     "user_tz": -60
    },
    "id": "vvlbtbTWkTQ3",
    "outputId": "b604fda4-f243-4262-daf9-cbe58ca3d405"
   },
   "outputs": [
    {
     "name": "stdout",
     "output_type": "stream",
     "text": [
      "Model: \"sequential\"\n",
      "_________________________________________________________________\n",
      "Layer (type)                 Output Shape              Param #   \n",
      "=================================================================\n",
      "conv1 (Conv2D)               (None, 56, 56, 32)        864       \n",
      "_________________________________________________________________\n",
      "conv1_bn (BatchNormalization (None, 56, 56, 32)        128       \n",
      "_________________________________________________________________\n",
      "conv1_relu (ReLU)            (None, 56, 56, 32)        0         \n",
      "_________________________________________________________________\n",
      "conv_dw_1 (DepthwiseConv2D)  (None, 56, 56, 32)        288       \n",
      "_________________________________________________________________\n",
      "conv_dw_1_bn (BatchNormaliza (None, 56, 56, 32)        128       \n",
      "_________________________________________________________________\n",
      "conv_dw_1_relu (ReLU)        (None, 56, 56, 32)        0         \n",
      "_________________________________________________________________\n",
      "conv_pw_1 (Conv2D)           (None, 56, 56, 64)        2048      \n",
      "_________________________________________________________________\n",
      "conv_pw_1_bn (BatchNormaliza (None, 56, 56, 64)        256       \n",
      "_________________________________________________________________\n",
      "conv_pw_1_relu (ReLU)        (None, 56, 56, 64)        0         \n",
      "_________________________________________________________________\n",
      "conv_pad_2 (ZeroPadding2D)   (None, 57, 57, 64)        0         \n",
      "_________________________________________________________________\n",
      "conv_dw_2 (DepthwiseConv2D)  (None, 28, 28, 64)        576       \n",
      "_________________________________________________________________\n",
      "conv_dw_2_bn (BatchNormaliza (None, 28, 28, 64)        256       \n",
      "_________________________________________________________________\n",
      "conv_dw_2_relu (ReLU)        (None, 28, 28, 64)        0         \n",
      "_________________________________________________________________\n",
      "conv_pw_2 (Conv2D)           (None, 28, 28, 128)       8192      \n",
      "_________________________________________________________________\n",
      "conv_pw_2_bn (BatchNormaliza (None, 28, 28, 128)       512       \n",
      "_________________________________________________________________\n",
      "conv_pw_2_relu (ReLU)        (None, 28, 28, 128)       0         \n",
      "_________________________________________________________________\n",
      "conv_dw_3 (DepthwiseConv2D)  (None, 28, 28, 128)       1152      \n",
      "_________________________________________________________________\n",
      "conv_dw_3_bn (BatchNormaliza (None, 28, 28, 128)       512       \n",
      "_________________________________________________________________\n",
      "conv_dw_3_relu (ReLU)        (None, 28, 28, 128)       0         \n",
      "_________________________________________________________________\n",
      "conv_pw_3 (Conv2D)           (None, 28, 28, 128)       16384     \n",
      "_________________________________________________________________\n",
      "conv_pw_3_bn (BatchNormaliza (None, 28, 28, 128)       512       \n",
      "_________________________________________________________________\n",
      "conv_pw_3_relu (ReLU)        (None, 28, 28, 128)       0         \n",
      "_________________________________________________________________\n",
      "dropout (Dropout)            (None, 28, 28, 128)       0         \n",
      "_________________________________________________________________\n",
      "conv_pad_4 (ZeroPadding2D)   (None, 29, 29, 128)       0         \n",
      "_________________________________________________________________\n",
      "conv_dw_4 (DepthwiseConv2D)  (None, 14, 14, 128)       1152      \n",
      "_________________________________________________________________\n",
      "conv_dw_4_bn (BatchNormaliza (None, 14, 14, 128)       512       \n",
      "_________________________________________________________________\n",
      "conv_dw_4_relu (ReLU)        (None, 14, 14, 128)       0         \n",
      "_________________________________________________________________\n",
      "conv_pw_4 (Conv2D)           (None, 14, 14, 256)       32768     \n",
      "_________________________________________________________________\n",
      "conv_pw_4_bn (BatchNormaliza (None, 14, 14, 256)       1024      \n",
      "_________________________________________________________________\n",
      "conv_pw_4_relu (ReLU)        (None, 14, 14, 256)       0         \n",
      "_________________________________________________________________\n",
      "conv_dw_5 (DepthwiseConv2D)  (None, 14, 14, 256)       2304      \n",
      "_________________________________________________________________\n",
      "conv_dw_5_bn (BatchNormaliza (None, 14, 14, 256)       1024      \n",
      "_________________________________________________________________\n",
      "conv_dw_5_relu (ReLU)        (None, 14, 14, 256)       0         \n",
      "_________________________________________________________________\n",
      "conv_pw_5 (Conv2D)           (None, 14, 14, 256)       65536     \n",
      "_________________________________________________________________\n",
      "conv_pw_5_bn (BatchNormaliza (None, 14, 14, 256)       1024      \n",
      "_________________________________________________________________\n",
      "conv_pw_5_relu (ReLU)        (None, 14, 14, 256)       0         \n",
      "_________________________________________________________________\n",
      "dropout_1 (Dropout)          (None, 14, 14, 256)       0         \n",
      "_________________________________________________________________\n",
      "conv_pad_6 (ZeroPadding2D)   (None, 15, 15, 256)       0         \n",
      "_________________________________________________________________\n",
      "conv_dw_6 (DepthwiseConv2D)  (None, 7, 7, 256)         2304      \n",
      "_________________________________________________________________\n",
      "conv_dw_6_bn (BatchNormaliza (None, 7, 7, 256)         1024      \n",
      "_________________________________________________________________\n",
      "conv_dw_6_relu (ReLU)        (None, 7, 7, 256)         0         \n",
      "_________________________________________________________________\n",
      "conv_pw_6 (Conv2D)           (None, 7, 7, 512)         131072    \n",
      "_________________________________________________________________\n",
      "conv_pw_6_bn (BatchNormaliza (None, 7, 7, 512)         2048      \n",
      "_________________________________________________________________\n",
      "conv_pw_6_relu (ReLU)        (None, 7, 7, 512)         0         \n",
      "_________________________________________________________________\n",
      "conv_dw_7 (DepthwiseConv2D)  (None, 7, 7, 512)         4608      \n",
      "_________________________________________________________________\n",
      "conv_dw_7_bn (BatchNormaliza (None, 7, 7, 512)         2048      \n",
      "_________________________________________________________________\n",
      "conv_dw_7_relu (ReLU)        (None, 7, 7, 512)         0         \n",
      "_________________________________________________________________\n",
      "conv_pw_7 (Conv2D)           (None, 7, 7, 512)         262144    \n",
      "_________________________________________________________________\n",
      "conv_pw_7_bn (BatchNormaliza (None, 7, 7, 512)         2048      \n",
      "_________________________________________________________________\n",
      "conv_pw_7_relu (ReLU)        (None, 7, 7, 512)         0         \n",
      "_________________________________________________________________\n",
      "dropout_2 (Dropout)          (None, 7, 7, 512)         0         \n",
      "_________________________________________________________________\n",
      "conv_dw_8 (DepthwiseConv2D)  (None, 7, 7, 512)         4608      \n",
      "_________________________________________________________________\n",
      "conv_dw_8_bn (BatchNormaliza (None, 7, 7, 512)         2048      \n",
      "_________________________________________________________________\n",
      "conv_dw_8_relu (ReLU)        (None, 7, 7, 512)         0         \n",
      "_________________________________________________________________\n",
      "conv_pw_8 (Conv2D)           (None, 7, 7, 512)         262144    \n",
      "_________________________________________________________________\n",
      "conv_pw_8_bn (BatchNormaliza (None, 7, 7, 512)         2048      \n",
      "_________________________________________________________________\n",
      "conv_pw_8_relu (ReLU)        (None, 7, 7, 512)         0         \n",
      "_________________________________________________________________\n",
      "conv_dw_9 (DepthwiseConv2D)  (None, 7, 7, 512)         4608      \n",
      "_________________________________________________________________\n",
      "conv_dw_9_bn (BatchNormaliza (None, 7, 7, 512)         2048      \n",
      "_________________________________________________________________\n",
      "conv_dw_9_relu (ReLU)        (None, 7, 7, 512)         0         \n",
      "_________________________________________________________________\n",
      "conv_pw_9 (Conv2D)           (None, 7, 7, 512)         262144    \n",
      "_________________________________________________________________\n",
      "conv_pw_9_bn (BatchNormaliza (None, 7, 7, 512)         2048      \n",
      "_________________________________________________________________\n",
      "conv_pw_9_relu (ReLU)        (None, 7, 7, 512)         0         \n",
      "_________________________________________________________________\n",
      "dropout_3 (Dropout)          (None, 7, 7, 512)         0         \n",
      "_________________________________________________________________\n",
      "conv_dw_10 (DepthwiseConv2D) (None, 7, 7, 512)         4608      \n",
      "_________________________________________________________________\n",
      "conv_dw_10_bn (BatchNormaliz (None, 7, 7, 512)         2048      \n",
      "_________________________________________________________________\n",
      "conv_dw_10_relu (ReLU)       (None, 7, 7, 512)         0         \n",
      "_________________________________________________________________\n",
      "conv_pw_10 (Conv2D)          (None, 7, 7, 512)         262144    \n",
      "_________________________________________________________________\n",
      "conv_pw_10_bn (BatchNormaliz (None, 7, 7, 512)         2048      \n",
      "_________________________________________________________________\n",
      "conv_pw_10_relu (ReLU)       (None, 7, 7, 512)         0         \n",
      "_________________________________________________________________\n",
      "conv_dw_11 (DepthwiseConv2D) (None, 7, 7, 512)         4608      \n",
      "_________________________________________________________________\n",
      "conv_dw_11_bn (BatchNormaliz (None, 7, 7, 512)         2048      \n",
      "_________________________________________________________________\n",
      "conv_dw_11_relu (ReLU)       (None, 7, 7, 512)         0         \n",
      "_________________________________________________________________\n",
      "conv_pw_11 (Conv2D)          (None, 7, 7, 512)         262144    \n",
      "_________________________________________________________________\n",
      "conv_pw_11_bn (BatchNormaliz (None, 7, 7, 512)         2048      \n",
      "_________________________________________________________________\n",
      "conv_pw_11_relu (ReLU)       (None, 7, 7, 512)         0         \n",
      "_________________________________________________________________\n",
      "dropout_4 (Dropout)          (None, 7, 7, 512)         0         \n",
      "_________________________________________________________________\n",
      "conv_pad_12 (ZeroPadding2D)  (None, 8, 8, 512)         0         \n",
      "_________________________________________________________________\n",
      "conv_dw_12 (DepthwiseConv2D) (None, 3, 3, 512)         4608      \n",
      "_________________________________________________________________\n",
      "conv_dw_12_bn (BatchNormaliz (None, 3, 3, 512)         2048      \n",
      "_________________________________________________________________\n",
      "conv_dw_12_relu (ReLU)       (None, 3, 3, 512)         0         \n",
      "_________________________________________________________________\n",
      "conv_pw_12 (Conv2D)          (None, 3, 3, 1024)        524288    \n",
      "_________________________________________________________________\n",
      "conv_pw_12_bn (BatchNormaliz (None, 3, 3, 1024)        4096      \n",
      "_________________________________________________________________\n",
      "conv_pw_12_relu (ReLU)       (None, 3, 3, 1024)        0         \n",
      "_________________________________________________________________\n",
      "conv_dw_13 (DepthwiseConv2D) (None, 3, 3, 1024)        9216      \n",
      "_________________________________________________________________\n",
      "conv_dw_13_bn (BatchNormaliz (None, 3, 3, 1024)        4096      \n",
      "_________________________________________________________________\n",
      "conv_dw_13_relu (ReLU)       (None, 3, 3, 1024)        0         \n",
      "_________________________________________________________________\n",
      "conv_pw_13 (Conv2D)          (None, 3, 3, 1024)        1048576   \n",
      "_________________________________________________________________\n",
      "conv_pw_13_bn (BatchNormaliz (None, 3, 3, 1024)        4096      \n",
      "_________________________________________________________________\n",
      "conv_pw_13_relu (ReLU)       (None, 3, 3, 1024)        0         \n",
      "_________________________________________________________________\n",
      "dropout_5 (Dropout)          (None, 3, 3, 1024)        0         \n",
      "_________________________________________________________________\n",
      "flatten (Flatten)            (None, 9216)              0         \n",
      "_________________________________________________________________\n",
      "dense (Dense)                (None, 512)               4719104   \n",
      "_________________________________________________________________\n",
      "leaky_re_lu (LeakyReLU)      (None, 512)               0         \n",
      "_________________________________________________________________\n",
      "dropout_6 (Dropout)          (None, 512)               0         \n",
      "_________________________________________________________________\n",
      "dense_1 (Dense)              (None, 512)               262656    \n",
      "_________________________________________________________________\n",
      "leaky_re_lu_1 (LeakyReLU)    (None, 512)               0         \n",
      "_________________________________________________________________\n",
      "dropout_7 (Dropout)          (None, 512)               0         \n",
      "_________________________________________________________________\n",
      "dense_2 (Dense)              (None, 36)                18468     \n",
      "=================================================================\n",
      "Total params: 8,229,092\n",
      "Trainable params: 8,207,204\n",
      "Non-trainable params: 21,888\n",
      "_________________________________________________________________\n"
     ]
    }
   ],
   "source": [
    "model = Sequential()\n",
    "for layer in resnet.layers:\n",
    "  model.add(layer)\n",
    "  if layer.name in [\"conv_pw_9_relu\", \"conv_pw_13_relu\", \"conv_pw_11_relu\", \"conv_pw_7_relu\", \"conv_pw_5_relu\", \"conv_pw_3_relu\"]:\n",
    "    model.add(Dropout(0.3))\n",
    "\n",
    "model.add(Flatten())\n",
    "model.add(Dense(512, input_dim=input_shape))\n",
    "model.add(tf.keras.layers.LeakyReLU(alpha=0.3))\n",
    "model.add(Dropout(0.4))\n",
    "model.add(Dense(512))\n",
    "model.add(tf.keras.layers.LeakyReLU(alpha=0.3))\n",
    "model.add(Dropout(0.4))\n",
    "model.add(Dense(36, activation='softmax'))\n",
    "\n",
    "from keras import optimizers\n",
    "model.compile(loss=\"categorical_crossentropy\",\n",
    "              optimizer=keras.optimizers.Adam(learning_rate=1e-3),\n",
    "              metrics=['accuracy'])\n",
    "model.summary()"
   ]
  },
  {
   "cell_type": "markdown",
   "metadata": {
    "id": "ahByTQPMkwCy"
   },
   "source": [
    "### *L'entrainement*"
   ]
  },
  {
   "cell_type": "code",
   "execution_count": 20,
   "metadata": {
    "colab": {
     "base_uri": "https://localhost:8080/"
    },
    "executionInfo": {
     "elapsed": 2682832,
     "status": "ok",
     "timestamp": 1616178952244,
     "user": {
      "displayName": "Maxime Nemo",
      "photoUrl": "https://lh3.googleusercontent.com/a-/AOh14GhgxYvMTdoHAKHpZFuOrdNCl0_jSEyN47gRl3a4qQ=s64",
      "userId": "10933025040277972859"
     },
     "user_tz": -60
    },
    "id": "yY99TWjxkudj",
    "outputId": "fd6631b1-a5e7-4502-de7b-3c4adfb75de3"
   },
   "outputs": [
    {
     "name": "stdout",
     "output_type": "stream",
     "text": [
      "Epoch 1/70\n",
      "175/175 [==============================] - 43s 218ms/step - loss: 6.3429 - accuracy: 0.0399 - val_loss: 5.8836 - val_accuracy: 0.0529\n",
      "\n",
      "Epoch 00001: val_loss improved from inf to 5.88359, saving model to model.hdf5\n",
      "Epoch 2/70\n",
      "175/175 [==============================] - 38s 217ms/step - loss: 3.4472 - accuracy: 0.0982 - val_loss: 3.1944 - val_accuracy: 0.1479\n",
      "\n",
      "Epoch 00002: val_loss improved from 5.88359 to 3.19443, saving model to model.hdf5\n",
      "Epoch 3/70\n",
      "175/175 [==============================] - 38s 217ms/step - loss: 3.0931 - accuracy: 0.1695 - val_loss: 2.9245 - val_accuracy: 0.2243\n",
      "\n",
      "Epoch 00003: val_loss improved from 3.19443 to 2.92450, saving model to model.hdf5\n",
      "Epoch 4/70\n",
      "175/175 [==============================] - 38s 218ms/step - loss: 2.7868 - accuracy: 0.2417 - val_loss: 2.1424 - val_accuracy: 0.3536\n",
      "\n",
      "Epoch 00004: val_loss improved from 2.92450 to 2.14239, saving model to model.hdf5\n",
      "Epoch 5/70\n",
      "175/175 [==============================] - 38s 218ms/step - loss: 2.4211 - accuracy: 0.3306 - val_loss: 2.2330 - val_accuracy: 0.4186\n",
      "\n",
      "Epoch 00005: val_loss did not improve from 2.14239\n",
      "Epoch 6/70\n",
      "175/175 [==============================] - 38s 215ms/step - loss: 2.1314 - accuracy: 0.4015 - val_loss: 1.9748 - val_accuracy: 0.4586\n",
      "\n",
      "Epoch 00006: val_loss improved from 2.14239 to 1.97477, saving model to model.hdf5\n",
      "Epoch 7/70\n",
      "175/175 [==============================] - 38s 218ms/step - loss: 1.9380 - accuracy: 0.4547 - val_loss: 1.7871 - val_accuracy: 0.5150\n",
      "\n",
      "Epoch 00007: val_loss improved from 1.97477 to 1.78710, saving model to model.hdf5\n",
      "Epoch 8/70\n",
      "175/175 [==============================] - 38s 217ms/step - loss: 1.7696 - accuracy: 0.5052 - val_loss: 1.6865 - val_accuracy: 0.5543\n",
      "\n",
      "Epoch 00008: val_loss improved from 1.78710 to 1.68654, saving model to model.hdf5\n",
      "Epoch 9/70\n",
      "175/175 [==============================] - 38s 217ms/step - loss: 1.6215 - accuracy: 0.5457 - val_loss: 1.5571 - val_accuracy: 0.5886\n",
      "\n",
      "Epoch 00009: val_loss improved from 1.68654 to 1.55707, saving model to model.hdf5\n",
      "Epoch 10/70\n",
      "175/175 [==============================] - 38s 217ms/step - loss: 1.5154 - accuracy: 0.5680 - val_loss: 1.2564 - val_accuracy: 0.6493\n",
      "\n",
      "Epoch 00010: val_loss improved from 1.55707 to 1.25635, saving model to model.hdf5\n",
      "Epoch 11/70\n",
      "175/175 [==============================] - 38s 218ms/step - loss: 1.3930 - accuracy: 0.6153 - val_loss: 1.2421 - val_accuracy: 0.6729\n",
      "\n",
      "Epoch 00011: val_loss improved from 1.25635 to 1.24212, saving model to model.hdf5\n",
      "Epoch 12/70\n",
      "175/175 [==============================] - 38s 216ms/step - loss: 1.3354 - accuracy: 0.6342 - val_loss: 1.2383 - val_accuracy: 0.6543\n",
      "\n",
      "Epoch 00012: val_loss improved from 1.24212 to 1.23826, saving model to model.hdf5\n",
      "Epoch 13/70\n",
      "175/175 [==============================] - 38s 217ms/step - loss: 1.2727 - accuracy: 0.6553 - val_loss: 1.2578 - val_accuracy: 0.6450\n",
      "\n",
      "Epoch 00013: val_loss did not improve from 1.23826\n",
      "Epoch 14/70\n",
      "175/175 [==============================] - 38s 217ms/step - loss: 1.2000 - accuracy: 0.6647 - val_loss: 1.2239 - val_accuracy: 0.6671\n",
      "\n",
      "Epoch 00014: val_loss improved from 1.23826 to 1.22386, saving model to model.hdf5\n",
      "Epoch 15/70\n",
      "175/175 [==============================] - 38s 216ms/step - loss: 1.1959 - accuracy: 0.6700 - val_loss: 1.1814 - val_accuracy: 0.6836\n",
      "\n",
      "Epoch 00015: val_loss improved from 1.22386 to 1.18140, saving model to model.hdf5\n",
      "Epoch 16/70\n",
      "175/175 [==============================] - 38s 218ms/step - loss: 1.1825 - accuracy: 0.6571 - val_loss: 1.1834 - val_accuracy: 0.6757\n",
      "\n",
      "Epoch 00016: val_loss did not improve from 1.18140\n",
      "Epoch 17/70\n",
      "175/175 [==============================] - 38s 217ms/step - loss: 1.1347 - accuracy: 0.6808 - val_loss: 1.2543 - val_accuracy: 0.6871\n",
      "\n",
      "Epoch 00017: val_loss did not improve from 1.18140\n",
      "Epoch 18/70\n",
      "175/175 [==============================] - 38s 218ms/step - loss: 1.1079 - accuracy: 0.6818 - val_loss: 1.1197 - val_accuracy: 0.6979\n",
      "\n",
      "Epoch 00018: val_loss improved from 1.18140 to 1.11967, saving model to model.hdf5\n",
      "Epoch 19/70\n",
      "175/175 [==============================] - 38s 217ms/step - loss: 1.1089 - accuracy: 0.6954 - val_loss: 1.1366 - val_accuracy: 0.7143\n",
      "\n",
      "Epoch 00019: val_loss did not improve from 1.11967\n",
      "Epoch 20/70\n",
      "175/175 [==============================] - 38s 217ms/step - loss: 1.0808 - accuracy: 0.6988 - val_loss: 1.1811 - val_accuracy: 0.6843\n",
      "\n",
      "Epoch 00020: val_loss did not improve from 1.11967\n",
      "Epoch 21/70\n",
      "175/175 [==============================] - 38s 218ms/step - loss: 1.0170 - accuracy: 0.7165 - val_loss: 1.1126 - val_accuracy: 0.7214\n",
      "\n",
      "Epoch 00021: val_loss improved from 1.11967 to 1.11256, saving model to model.hdf5\n",
      "Epoch 22/70\n",
      "175/175 [==============================] - 38s 218ms/step - loss: 0.9995 - accuracy: 0.7182 - val_loss: 1.3044 - val_accuracy: 0.7007\n",
      "\n",
      "Epoch 00022: val_loss did not improve from 1.11256\n",
      "Epoch 23/70\n",
      "175/175 [==============================] - 38s 217ms/step - loss: 0.9193 - accuracy: 0.7455 - val_loss: 1.2295 - val_accuracy: 0.6850\n",
      "\n",
      "Epoch 00023: val_loss did not improve from 1.11256\n",
      "Epoch 24/70\n",
      "175/175 [==============================] - 38s 217ms/step - loss: 0.9679 - accuracy: 0.7297 - val_loss: 1.1141 - val_accuracy: 0.7129\n",
      "\n",
      "Epoch 00024: val_loss did not improve from 1.11256\n",
      "Epoch 25/70\n",
      "175/175 [==============================] - 38s 218ms/step - loss: 0.9314 - accuracy: 0.7401 - val_loss: 1.3386 - val_accuracy: 0.6879\n",
      "\n",
      "Epoch 00025: ReduceLROnPlateau reducing learning rate to 0.0003000000142492354.\n",
      "\n",
      "Epoch 00025: val_loss did not improve from 1.11256\n",
      "Epoch 26/70\n",
      "175/175 [==============================] - 38s 217ms/step - loss: 0.7931 - accuracy: 0.7757 - val_loss: 0.8553 - val_accuracy: 0.7679\n",
      "\n",
      "Epoch 00026: val_loss improved from 1.11256 to 0.85526, saving model to model.hdf5\n",
      "Epoch 27/70\n",
      "175/175 [==============================] - 38s 217ms/step - loss: 0.6667 - accuracy: 0.8098 - val_loss: 0.8657 - val_accuracy: 0.7721\n",
      "\n",
      "Epoch 00027: val_loss did not improve from 0.85526\n",
      "Epoch 28/70\n",
      "175/175 [==============================] - 38s 217ms/step - loss: 0.6254 - accuracy: 0.8178 - val_loss: 0.9573 - val_accuracy: 0.7593\n",
      "\n",
      "Epoch 00028: val_loss did not improve from 0.85526\n",
      "Epoch 29/70\n",
      "175/175 [==============================] - 38s 218ms/step - loss: 0.6292 - accuracy: 0.8196 - val_loss: 0.8830 - val_accuracy: 0.7536\n",
      "\n",
      "Epoch 00029: val_loss did not improve from 0.85526\n",
      "Epoch 30/70\n",
      "175/175 [==============================] - 38s 217ms/step - loss: 0.6072 - accuracy: 0.8277 - val_loss: 0.9373 - val_accuracy: 0.7571\n",
      "\n",
      "Epoch 00030: ReduceLROnPlateau reducing learning rate to 9.000000427477062e-05.\n",
      "\n",
      "Epoch 00030: val_loss did not improve from 0.85526\n",
      "Epoch 31/70\n",
      "175/175 [==============================] - 38s 217ms/step - loss: 0.5442 - accuracy: 0.8378 - val_loss: 0.8685 - val_accuracy: 0.7700\n",
      "\n",
      "Epoch 00031: val_loss did not improve from 0.85526\n",
      "Epoch 32/70\n",
      "175/175 [==============================] - 38s 218ms/step - loss: 0.5164 - accuracy: 0.8502 - val_loss: 0.8511 - val_accuracy: 0.7843\n",
      "\n",
      "Epoch 00032: val_loss improved from 0.85526 to 0.85111, saving model to model.hdf5\n",
      "Epoch 33/70\n",
      "175/175 [==============================] - 38s 216ms/step - loss: 0.5393 - accuracy: 0.8433 - val_loss: 0.9049 - val_accuracy: 0.7721\n",
      "\n",
      "Epoch 00033: val_loss did not improve from 0.85111\n",
      "Epoch 34/70\n",
      "175/175 [==============================] - 38s 215ms/step - loss: 0.4917 - accuracy: 0.8581 - val_loss: 0.8258 - val_accuracy: 0.7764\n",
      "\n",
      "Epoch 00034: val_loss improved from 0.85111 to 0.82576, saving model to model.hdf5\n",
      "Epoch 35/70\n",
      "175/175 [==============================] - 38s 217ms/step - loss: 0.5242 - accuracy: 0.8472 - val_loss: 0.7986 - val_accuracy: 0.7914\n",
      "\n",
      "Epoch 00035: val_loss improved from 0.82576 to 0.79857, saving model to model.hdf5\n",
      "Epoch 36/70\n",
      "175/175 [==============================] - 38s 216ms/step - loss: 0.5167 - accuracy: 0.8432 - val_loss: 0.8772 - val_accuracy: 0.7757\n",
      "\n",
      "Epoch 00036: val_loss did not improve from 0.79857\n",
      "Epoch 37/70\n",
      "175/175 [==============================] - 38s 217ms/step - loss: 0.4550 - accuracy: 0.8688 - val_loss: 0.8408 - val_accuracy: 0.7886\n",
      "\n",
      "Epoch 00037: val_loss did not improve from 0.79857\n",
      "Epoch 38/70\n",
      "175/175 [==============================] - 38s 217ms/step - loss: 0.4586 - accuracy: 0.8671 - val_loss: 0.8288 - val_accuracy: 0.7914\n",
      "\n",
      "Epoch 00038: val_loss did not improve from 0.79857\n",
      "Epoch 39/70\n",
      "175/175 [==============================] - 38s 216ms/step - loss: 0.4759 - accuracy: 0.8539 - val_loss: 0.8326 - val_accuracy: 0.7814\n",
      "\n",
      "Epoch 00039: ReduceLROnPlateau reducing learning rate to 2.700000040931627e-05.\n",
      "\n",
      "Epoch 00039: val_loss did not improve from 0.79857\n",
      "Epoch 40/70\n",
      "175/175 [==============================] - 38s 217ms/step - loss: 0.4301 - accuracy: 0.8677 - val_loss: 0.8739 - val_accuracy: 0.7779\n",
      "\n",
      "Epoch 00040: val_loss did not improve from 0.79857\n",
      "Epoch 41/70\n",
      "175/175 [==============================] - 38s 216ms/step - loss: 0.4543 - accuracy: 0.8647 - val_loss: 0.8571 - val_accuracy: 0.7836\n",
      "\n",
      "Epoch 00041: val_loss did not improve from 0.79857\n",
      "Epoch 42/70\n",
      "175/175 [==============================] - 38s 216ms/step - loss: 0.4704 - accuracy: 0.8565 - val_loss: 0.8850 - val_accuracy: 0.7821\n",
      "\n",
      "Epoch 00042: val_loss did not improve from 0.79857\n",
      "Epoch 43/70\n",
      "175/175 [==============================] - 38s 216ms/step - loss: 0.4516 - accuracy: 0.8647 - val_loss: 0.8849 - val_accuracy: 0.7843\n",
      "\n",
      "Epoch 00043: ReduceLROnPlateau reducing learning rate to 8.100000013655517e-06.\n",
      "\n",
      "Epoch 00043: val_loss did not improve from 0.79857\n",
      "Epoch 44/70\n",
      "175/175 [==============================] - 38s 216ms/step - loss: 0.4649 - accuracy: 0.8572 - val_loss: 0.9006 - val_accuracy: 0.7786\n",
      "\n",
      "Epoch 00044: val_loss did not improve from 0.79857\n",
      "Epoch 45/70\n",
      "175/175 [==============================] - 38s 217ms/step - loss: 0.4471 - accuracy: 0.8644 - val_loss: 0.9182 - val_accuracy: 0.7807\n",
      "\n",
      "Epoch 00045: val_loss did not improve from 0.79857\n",
      "Epoch 46/70\n",
      "175/175 [==============================] - 38s 216ms/step - loss: 0.4455 - accuracy: 0.8712 - val_loss: 0.8791 - val_accuracy: 0.7886\n",
      "\n",
      "Epoch 00046: val_loss did not improve from 0.79857\n",
      "Epoch 47/70\n",
      "175/175 [==============================] - 38s 216ms/step - loss: 0.4590 - accuracy: 0.8561 - val_loss: 0.8737 - val_accuracy: 0.7764\n",
      "\n",
      "Epoch 00047: ReduceLROnPlateau reducing learning rate to 2.429999949526973e-06.\n",
      "\n",
      "Epoch 00047: val_loss did not improve from 0.79857\n",
      "Epoch 48/70\n",
      "175/175 [==============================] - 38s 217ms/step - loss: 0.4235 - accuracy: 0.8749 - val_loss: 0.8568 - val_accuracy: 0.7836\n",
      "\n",
      "Epoch 00048: val_loss did not improve from 0.79857\n",
      "Epoch 49/70\n",
      "175/175 [==============================] - 38s 217ms/step - loss: 0.4321 - accuracy: 0.8751 - val_loss: 0.8754 - val_accuracy: 0.7771\n",
      "\n",
      "Epoch 00049: val_loss did not improve from 0.79857\n",
      "Epoch 50/70\n",
      "175/175 [==============================] - 38s 218ms/step - loss: 0.4366 - accuracy: 0.8664 - val_loss: 0.8686 - val_accuracy: 0.7850\n",
      "\n",
      "Epoch 00050: val_loss did not improve from 0.79857\n",
      "Epoch 51/70\n",
      "175/175 [==============================] - 38s 218ms/step - loss: 0.4298 - accuracy: 0.8668 - val_loss: 0.8754 - val_accuracy: 0.7807\n",
      "\n",
      "Epoch 00051: ReduceLROnPlateau reducing learning rate to 7.289999985005124e-07.\n",
      "\n",
      "Epoch 00051: val_loss did not improve from 0.79857\n",
      "Epoch 52/70\n",
      "175/175 [==============================] - 38s 218ms/step - loss: 0.4385 - accuracy: 0.8687 - val_loss: 0.8610 - val_accuracy: 0.7900\n",
      "\n",
      "Epoch 00052: val_loss did not improve from 0.79857\n",
      "Epoch 53/70\n",
      "175/175 [==============================] - 38s 219ms/step - loss: 0.4445 - accuracy: 0.8617 - val_loss: 0.8845 - val_accuracy: 0.7771\n",
      "\n",
      "Epoch 00053: val_loss did not improve from 0.79857\n",
      "Epoch 54/70\n",
      "175/175 [==============================] - 38s 219ms/step - loss: 0.4431 - accuracy: 0.8697 - val_loss: 0.8721 - val_accuracy: 0.7829\n",
      "\n",
      "Epoch 00054: val_loss did not improve from 0.79857\n",
      "Epoch 55/70\n",
      "175/175 [==============================] - 38s 218ms/step - loss: 0.4030 - accuracy: 0.8769 - val_loss: 0.8718 - val_accuracy: 0.7929\n",
      "\n",
      "Epoch 00055: ReduceLROnPlateau reducing learning rate to 2.1870000637136398e-07.\n",
      "\n",
      "Epoch 00055: val_loss did not improve from 0.79857\n",
      "Epoch 56/70\n",
      "175/175 [==============================] - 38s 219ms/step - loss: 0.4576 - accuracy: 0.8651 - val_loss: 0.9029 - val_accuracy: 0.7793\n",
      "\n",
      "Epoch 00056: val_loss did not improve from 0.79857\n",
      "Epoch 57/70\n",
      "175/175 [==============================] - 38s 218ms/step - loss: 0.4213 - accuracy: 0.8764 - val_loss: 0.8415 - val_accuracy: 0.7871\n",
      "\n",
      "Epoch 00057: val_loss did not improve from 0.79857\n",
      "Epoch 58/70\n",
      "175/175 [==============================] - 38s 217ms/step - loss: 0.4486 - accuracy: 0.8600 - val_loss: 0.8251 - val_accuracy: 0.7900\n",
      "\n",
      "Epoch 00058: val_loss did not improve from 0.79857\n",
      "Epoch 59/70\n",
      "175/175 [==============================] - 38s 217ms/step - loss: 0.4362 - accuracy: 0.8700 - val_loss: 0.8672 - val_accuracy: 0.7907\n",
      "\n",
      "Epoch 00059: ReduceLROnPlateau reducing learning rate to 1e-07.\n",
      "\n",
      "Epoch 00059: val_loss did not improve from 0.79857\n",
      "Epoch 60/70\n",
      "175/175 [==============================] - 38s 216ms/step - loss: 0.4170 - accuracy: 0.8703 - val_loss: 0.8780 - val_accuracy: 0.7836\n",
      "\n",
      "Epoch 00060: val_loss did not improve from 0.79857\n",
      "Epoch 61/70\n",
      "175/175 [==============================] - 38s 218ms/step - loss: 0.4020 - accuracy: 0.8797 - val_loss: 0.8599 - val_accuracy: 0.7921\n",
      "\n",
      "Epoch 00061: val_loss did not improve from 0.79857\n",
      "Epoch 62/70\n",
      "175/175 [==============================] - 38s 219ms/step - loss: 0.4433 - accuracy: 0.8622 - val_loss: 0.8798 - val_accuracy: 0.7871\n",
      "\n",
      "Epoch 00062: val_loss did not improve from 0.79857\n",
      "Epoch 63/70\n",
      "175/175 [==============================] - 38s 218ms/step - loss: 0.4230 - accuracy: 0.8736 - val_loss: 0.8819 - val_accuracy: 0.7900\n",
      "\n",
      "Epoch 00063: ReduceLROnPlateau reducing learning rate to 1e-07.\n",
      "\n",
      "Epoch 00063: val_loss did not improve from 0.79857\n",
      "Epoch 64/70\n",
      "175/175 [==============================] - 38s 217ms/step - loss: 0.4630 - accuracy: 0.8547 - val_loss: 0.8567 - val_accuracy: 0.7779\n",
      "\n",
      "Epoch 00064: val_loss did not improve from 0.79857\n",
      "Epoch 65/70\n",
      "175/175 [==============================] - 38s 217ms/step - loss: 0.4087 - accuracy: 0.8717 - val_loss: 0.8987 - val_accuracy: 0.7764\n",
      "\n",
      "Epoch 00065: val_loss did not improve from 0.79857\n",
      "Epoch 66/70\n",
      "175/175 [==============================] - 38s 219ms/step - loss: 0.4177 - accuracy: 0.8708 - val_loss: 0.8646 - val_accuracy: 0.7800\n",
      "\n",
      "Epoch 00066: val_loss did not improve from 0.79857\n",
      "Epoch 67/70\n",
      "175/175 [==============================] - 38s 218ms/step - loss: 0.4604 - accuracy: 0.8707 - val_loss: 0.8544 - val_accuracy: 0.7850\n",
      "\n",
      "Epoch 00067: ReduceLROnPlateau reducing learning rate to 1e-07.\n",
      "\n",
      "Epoch 00067: val_loss did not improve from 0.79857\n",
      "Epoch 68/70\n",
      "175/175 [==============================] - 38s 218ms/step - loss: 0.4223 - accuracy: 0.8738 - val_loss: 0.8868 - val_accuracy: 0.7850\n",
      "\n",
      "Epoch 00068: val_loss did not improve from 0.79857\n",
      "Epoch 69/70\n",
      "175/175 [==============================] - 38s 217ms/step - loss: 0.4173 - accuracy: 0.8741 - val_loss: 0.8514 - val_accuracy: 0.7836\n",
      "\n",
      "Epoch 00069: val_loss did not improve from 0.79857\n",
      "Epoch 70/70\n",
      "175/175 [==============================] - 38s 218ms/step - loss: 0.4497 - accuracy: 0.8713 - val_loss: 0.8963 - val_accuracy: 0.7786\n",
      "\n",
      "Epoch 00070: val_loss did not improve from 0.79857\n"
     ]
    }
   ],
   "source": [
    "history = model.fit(train_generator, epochs=70, validation_data=validation_generator,\n",
    "                    verbose=1,\n",
    "                    callbacks=[reduce_lr, model_checkpoint_callback])"
   ]
  },
  {
   "cell_type": "code",
   "execution_count": 21,
   "metadata": {
    "executionInfo": {
     "elapsed": 2682833,
     "status": "ok",
     "timestamp": 1616178952253,
     "user": {
      "displayName": "Maxime Nemo",
      "photoUrl": "https://lh3.googleusercontent.com/a-/AOh14GhgxYvMTdoHAKHpZFuOrdNCl0_jSEyN47gRl3a4qQ=s64",
      "userId": "10933025040277972859"
     },
     "user_tz": -60
    },
    "id": "t0IPTjE1lLg9"
   },
   "outputs": [],
   "source": [
    "model.load_weights(\"model.hdf5\")"
   ]
  },
  {
   "cell_type": "code",
   "execution_count": 22,
   "metadata": {
    "colab": {
     "base_uri": "https://localhost:8080/"
    },
    "executionInfo": {
     "elapsed": 2689514,
     "status": "ok",
     "timestamp": 1616178958940,
     "user": {
      "displayName": "Maxime Nemo",
      "photoUrl": "https://lh3.googleusercontent.com/a-/AOh14GhgxYvMTdoHAKHpZFuOrdNCl0_jSEyN47gRl3a4qQ=s64",
      "userId": "10933025040277972859"
     },
     "user_tz": -60
    },
    "id": "GOSC9ZwflMTu",
    "outputId": "4acb0285-fbf3-4412-9154-5b3455e94de8"
   },
   "outputs": [
    {
     "name": "stdout",
     "output_type": "stream",
     "text": [
      "44/44 [==============================] - 7s 150ms/step - loss: 0.8585 - accuracy: 0.7800\n",
      "[0.8584847450256348, 0.7799999713897705]\n"
     ]
    }
   ],
   "source": [
    "a = model.evaluate(validation_generator)\n",
    "print(a)"
   ]
  },
  {
   "cell_type": "code",
   "execution_count": 23,
   "metadata": {
    "colab": {
     "base_uri": "https://localhost:8080/",
     "height": 573
    },
    "executionInfo": {
     "elapsed": 2690305,
     "status": "ok",
     "timestamp": 1616178959741,
     "user": {
      "displayName": "Maxime Nemo",
      "photoUrl": "https://lh3.googleusercontent.com/a-/AOh14GhgxYvMTdoHAKHpZFuOrdNCl0_jSEyN47gRl3a4qQ=s64",
      "userId": "10933025040277972859"
     },
     "user_tz": -60
    },
    "id": "KhBpekfapkHS",
    "outputId": "d9c44df4-c610-46d0-c67a-2f88212acc89"
   },
   "outputs": [
    {
     "data": {
      "image/png": "[encoded data removed]",
      "text/plain": [
       "<Figure size 432x288 with 1 Axes>"
      ]
     },
     "metadata": {
      "needs_background": "light",
      "tags": []
     },
     "output_type": "display_data"
    },
    {
     "data": {
      "image/png": "[encoded data removed]",
      "text/plain": [
       "<Figure size 432x288 with 1 Axes>"
      ]
     },
     "metadata": {
      "needs_background": "light",
      "tags": []
     },
     "output_type": "display_data"
    }
   ],
   "source": [
    "def plot_history(history):\n",
    "    \"\"\"\n",
    "    plot l'accuracy et la loss\n",
    "    \"\"\"\n",
    "    plt.plot(history.history['accuracy'])\n",
    "    plt.plot(history.history['val_accuracy'])\n",
    "    plt.title('model accuracy')\n",
    "    plt.ylabel('accuracy')\n",
    "    plt.xlabel('epoch')\n",
    "    plt.legend(['train', 'val'], loc='upper left')\n",
    "    plt.show()\n",
    "\n",
    "    plt.plot(history.history['loss'])\n",
    "    plt.plot(history.history['val_loss'])\n",
    "    plt.title('model loss')\n",
    "    plt.ylabel('loss')\n",
    "    plt.xlabel('epoch')\n",
    "    plt.legend(['train', 'val'], loc='upper left')\n",
    "    plt.show()\n",
    "plot_history(history)"
   ]
  },
  {
   "cell_type": "code",
   "execution_count": 24,
   "metadata": {
    "colab": {
     "base_uri": "https://localhost:8080/"
    },
    "executionInfo": {
     "elapsed": 2705501,
     "status": "ok",
     "timestamp": 1616178974957,
     "user": {
      "displayName": "Maxime Nemo",
      "photoUrl": "https://lh3.googleusercontent.com/a-/AOh14GhgxYvMTdoHAKHpZFuOrdNCl0_jSEyN47gRl3a4qQ=s64",
      "userId": "10933025040277972859"
     },
     "user_tz": -60
    },
    "id": "uwgT74W4fepq",
    "outputId": "2ed93e0c-b862-462b-f96f-9af326435eb2"
   },
   "outputs": [
    {
     "name": "stdout",
     "output_type": "stream",
     "text": [
      "INFO:tensorflow:Assets written to: /content/drive/MyDrive/Colab Notebooks/new_dataset/transfer_learning_v2/model0.8584847450256348_0.7799999713897705/assets\n"
     ]
    }
   ],
   "source": [
    "model.save(\"/content/drive/MyDrive/Colab Notebooks/new_dataset/transfer_learning_v2/model\" + str(a[0]) + \"_\" + str(a[1]))"
   ]
  }
 ],
 "metadata": {
  "accelerator": "GPU",
  "colab": {
   "authorship_tag": "ABX9TyMdZPeAMiGkKa++JojaZAeG",
   "collapsed_sections": [],
   "name": "Copie de Copie de Transfer_learning_v2.ipynb",
   "provenance": []
  },
  "kernelspec": {
   "display_name": "Python 3 (ipykernel)",
   "language": "python",
   "name": "python3"
  },
  "language_info": {
   "codemirror_mode": {
    "name": "ipython",
    "version": 3
   },
   "file_extension": ".py",
   "mimetype": "text/x-python",
   "name": "python",
   "nbconvert_exporter": "python",
   "pygments_lexer": "ipython3",
   "version": "3.9.7"
  }
 },
 "nbformat": 4,
 "nbformat_minor": 1
}
